{
 "cells": [
  {
   "cell_type": "code",
   "execution_count": 1,
   "metadata": {},
   "outputs": [],
   "source": [
    "import altair as alt\n",
    "import pandas as pd\n",
    "import torch\n",
    "from torch_geometric.loader import DataLoader\n",
    "\n",
    "from main_layered import create_and_train_model, eval_model\n",
    "from utils.data import flex_graph, gen_rectangular_channel_matrix"
   ]
  },
  {
   "cell_type": "code",
   "execution_count": 2,
   "metadata": {},
   "outputs": [],
   "source": [
    "device = torch.device('cuda' if torch.cuda.is_available() else 'cpu')"
   ]
  },
  {
   "cell_type": "code",
   "execution_count": 3,
   "metadata": {},
   "outputs": [],
   "source": [
    "def train_multiple_models(samples):\n",
    "    k = 32\n",
    "    for i in samples:\n",
    "        path_ = f\"./flexible_experiment_{i}_training_samples.pth\"\n",
    "        data = gen_rectangular_channel_matrix(k, k, samples, seed=11)\n",
    "        data = flex_graph(data)\n",
    "        data = DataLoader(data, batch_size=64, shuffle=True)\n",
    "        create_and_train_model(n=10000, k=32, batch_size=64, noise_var=1., path=path_, data=data, lr=0.002, layers='Samp')\n",
    "\n",
    "def evaluate_models(samples):\n",
    "    perf = []\n",
    "    k = 32\n",
    "    data = gen_rectangular_channel_matrix(k, k, 10000, seed=899)\n",
    "    data = flex_graph(data)\n",
    "    for i in samples:\n",
    "        path_ = f\"./experiments/flexible_experiment_{i}_training_samples.pth\"\n",
    "        perf.append(eval_model(path=path_, data=data, layers='Samp'))\n",
    "    return perf"
   ]
  },
  {
   "cell_type": "code",
   "execution_count": 4,
   "metadata": {},
   "outputs": [],
   "source": [
    "samples = [2000, 5000, 10000, 15000, 20000]\n",
    "# train_multiple_models(samples)"
   ]
  },
  {
   "cell_type": "code",
   "execution_count": 5,
   "outputs": [
    {
     "name": "stdout",
     "output_type": "stream",
     "text": [
      "-3.957087993621826\n",
      "-3.9976425170898438\n",
      "-4.060915470123291\n",
      "-4.0777435302734375\n",
      "-4.085641860961914\n"
     ]
    }
   ],
   "source": [
    "perf_samples = evaluate_models(samples)"
   ],
   "metadata": {
    "collapsed": false,
    "pycharm": {
     "name": "#%%\n"
    }
   }
  },
  {
   "cell_type": "code",
   "execution_count": 6,
   "outputs": [],
   "source": [
    "perf_samples = [x.item() for x in perf_samples]"
   ],
   "metadata": {
    "collapsed": false,
    "pycharm": {
     "name": "#%%\n"
    }
   }
  },
  {
   "cell_type": "code",
   "execution_count": 7,
   "metadata": {
    "pycharm": {
     "name": "#%%\n"
    }
   },
   "outputs": [
    {
     "name": "stderr",
     "output_type": "stream",
     "text": [
      "/var/folders/t_/wm386ky12tgc0z5hgsp8y5_c0000gn/T/ipykernel_3910/523502201.py:4: FutureWarning: This dataframe has a column name that matches the 'value_name' column name of the resulting Dataframe. In the future this will raise an error, please set the 'value_name' parameter of DataFrame.melt to a unique name.\n",
      "  source = source.melt('Sample Count', var_name='category', value_name='Performance')\n"
     ]
    },
    {
     "data": {
      "text/html": "\n<div id=\"altair-viz-5dc01fcf2c5c4c0188034b0ec4208319\"></div>\n<script type=\"text/javascript\">\n  (function(spec, embedOpt){\n    let outputDiv = document.currentScript.previousElementSibling;\n    if (outputDiv.id !== \"altair-viz-5dc01fcf2c5c4c0188034b0ec4208319\") {\n      outputDiv = document.getElementById(\"altair-viz-5dc01fcf2c5c4c0188034b0ec4208319\");\n    }\n    const paths = {\n      \"vega\": \"https://cdn.jsdelivr.net/npm//vega@5?noext\",\n      \"vega-lib\": \"https://cdn.jsdelivr.net/npm//vega-lib?noext\",\n      \"vega-lite\": \"https://cdn.jsdelivr.net/npm//vega-lite@4.8.1?noext\",\n      \"vega-embed\": \"https://cdn.jsdelivr.net/npm//vega-embed@6?noext\",\n    };\n\n    function loadScript(lib) {\n      return new Promise(function(resolve, reject) {\n        var s = document.createElement('script');\n        s.src = paths[lib];\n        s.async = true;\n        s.onload = () => resolve(paths[lib]);\n        s.onerror = () => reject(`Error loading script: ${paths[lib]}`);\n        document.getElementsByTagName(\"head\")[0].appendChild(s);\n      });\n    }\n\n    function showError(err) {\n      outputDiv.innerHTML = `<div class=\"error\" style=\"color:red;\">${err}</div>`;\n      throw err;\n    }\n\n    function displayChart(vegaEmbed) {\n      vegaEmbed(outputDiv, spec, embedOpt)\n        .catch(err => showError(`Javascript Error: ${err.message}<br>This usually means there's a typo in your chart specification. See the javascript console for the full traceback.`));\n    }\n\n    if(typeof define === \"function\" && define.amd) {\n      requirejs.config({paths});\n      require([\"vega-embed\"], displayChart, err => showError(`Error loading script: ${err.message}`));\n    } else if (typeof vegaEmbed === \"function\") {\n      displayChart(vegaEmbed);\n    } else {\n      loadScript(\"vega\")\n        .then(() => loadScript(\"vega-lite\"))\n        .then(() => loadScript(\"vega-embed\"))\n        .catch(showError)\n        .then(() => displayChart(vegaEmbed));\n    }\n  })({\"config\": {\"view\": {\"continuousWidth\": 400, \"continuousHeight\": 300}, \"point\": {\"size\": 50}}, \"data\": {\"name\": \"data-2ddb0e74a9c3b748dba0d1a677072269\"}, \"mark\": {\"type\": \"area\", \"color\": \"lightblue\", \"interpolate\": \"catmull-rom\", \"line\": true, \"point\": true}, \"encoding\": {\"color\": {\"type\": \"nominal\", \"field\": \"category\", \"legend\": null, \"scale\": {\"scheme\": \"dark2\"}}, \"x\": {\"type\": \"quantitative\", \"axis\": {\"format\": \",.2r\", \"labelAngle\": -45}, \"field\": \"Sample Count\", \"scale\": {\"nice\": true, \"zero\": false}}, \"y\": {\"type\": \"quantitative\", \"axis\": {\"format\": \".1%\", \"tickCount\": 6}, \"field\": \"percent\", \"scale\": {\"nice\": true, \"type\": \"linear\", \"zero\": false}, \"title\": \"Performance\"}}, \"transform\": [{\"joinaggregate\": [{\"op\": \"max\", \"field\": \"Performance\", \"as\": \"max\"}]}, {\"calculate\": \"datum.Performance / datum.max\", \"as\": \"percent\"}], \"$schema\": \"https://vega.github.io/schema/vega-lite/v4.8.1.json\", \"datasets\": {\"data-2ddb0e74a9c3b748dba0d1a677072269\": [{\"Sample Count\": 2000, \"category\": \"Performance\", \"Performance\": 3.957087993621826}, {\"Sample Count\": 5000, \"category\": \"Performance\", \"Performance\": 3.9976425170898438}, {\"Sample Count\": 10000, \"category\": \"Performance\", \"Performance\": 4.060915470123291}, {\"Sample Count\": 15000, \"category\": \"Performance\", \"Performance\": 4.0777435302734375}, {\"Sample Count\": 20000, \"category\": \"Performance\", \"Performance\": 4.085641860961914}]}}, {\"mode\": \"vega-lite\"});\n</script>",
      "text/plain": "alt.Chart(...)"
     },
     "execution_count": 7,
     "metadata": {},
     "output_type": "execute_result"
    }
   ],
   "source": [
    "source = pd.DataFrame({'Sample Count': samples,\n",
    "                           'Performance': perf_samples\n",
    "                           })\n",
    "source = source.melt('Sample Count', var_name='category', value_name='Performance')\n",
    "\n",
    "samples_chart = alt.Chart(source).transform_joinaggregate(\n",
    "    max='max(Performance)',\n",
    ").transform_calculate(\n",
    "    percent=\"datum.Performance / datum.max\"\n",
    ").encode(\n",
    "    alt.X('Sample Count:Q', scale=alt.Scale(zero=False, nice=True), axis=alt.Axis(format=',.2r', labelAngle=-45)),\n",
    "    alt.Y('percent:Q', title='Performance',\n",
    "          scale=alt.Scale(zero=False, nice=True, type='linear', \n",
    "#                           domain=[0.96, 1.001]\n",
    "                         ),\n",
    "          axis=alt.Axis(tickCount=6, format='.1%')),\n",
    "    alt.Color('category:N', legend=None,\n",
    "              scale=alt.Scale(scheme=\"dark2\"))\n",
    ").mark_area(\n",
    "    color=\"lightblue\",\n",
    "    line=True,\n",
    "    point=True,\n",
    "    interpolate='catmull-rom'\n",
    ").configure_point(\n",
    "    size=50\n",
    ")\n",
    "\n",
    "samples_chart"
   ]
  },
  {
   "cell_type": "markdown",
   "source": [
    "### Plot in SVG format for viewing on Github"
   ],
   "metadata": {
    "collapsed": false,
    "pycharm": {
     "name": "#%% md\n"
    }
   }
  },
  {
   "cell_type": "markdown",
   "source": [
    "![plot](https://user-images.githubusercontent.com/17931435/213000831-f4655edc-3749-491a-9ddf-471a69a1e072.svg)"
   ],
   "metadata": {
    "collapsed": false
   }
  },
  {
   "cell_type": "markdown",
   "source": [],
   "metadata": {
    "collapsed": false,
    "pycharm": {
     "name": "#%% md\n"
    }
   }
  }
 ],
 "metadata": {
  "kernelspec": {
   "display_name": "Python 3",
   "language": "python",
   "name": "python3"
  },
  "language_info": {
   "codemirror_mode": {
    "name": "ipython",
    "version": 3
   },
   "file_extension": ".py",
   "mimetype": "text/x-python",
   "name": "python",
   "nbconvert_exporter": "python",
   "pygments_lexer": "ipython3",
   "version": "3.8.6"
  }
 },
 "nbformat": 4,
 "nbformat_minor": 4
}