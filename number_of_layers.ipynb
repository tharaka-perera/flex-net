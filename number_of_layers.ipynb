{
 "cells": [
  {
   "cell_type": "code",
   "execution_count": 1,
   "metadata": {},
   "outputs": [],
   "source": [
    "import altair as alt\n",
    "import pandas as pd\n",
    "import torch\n",
    "from torch_geometric.loader import DataLoader\n",
    "\n",
    "from main_layered import create_and_train_model, eval_model\n",
    "from utils.data import gen_rectangular_channel_matrix, flex_graph"
   ]
  },
  {
   "cell_type": "code",
   "execution_count": 2,
   "metadata": {},
   "outputs": [],
   "source": [
    "device = torch.device('cuda' if torch.cuda.is_available() else 'cpu')"
   ]
  },
  {
   "cell_type": "code",
   "execution_count": 3,
   "metadata": {},
   "outputs": [],
   "source": [
    "def train_multiple_models(layers):\n",
    "    k = 32\n",
    "    data = gen_rectangular_channel_matrix(k, k, 10000, seed=11)\n",
    "    data = flex_graph(data)\n",
    "    data = DataLoader(data, batch_size=64, shuffle=True)\n",
    "    for i in layers:\n",
    "        path_ = f\"./experiments/flexible_experiment_{i}_layers.pth\"\n",
    "        create_and_train_model(n=10000, k=32, batch_size=64, noise_var=1., path=path_, data=data, lr=0.002, layers=i)\n",
    "\n",
    "def evaluate_models(layers):\n",
    "    perf = []\n",
    "    k = 32\n",
    "    data = gen_rectangular_channel_matrix(k, k, 100, seed=899)\n",
    "    data = flex_graph(data)\n",
    "    for i in layers:\n",
    "        path_ = f\"./experiments/flexible_experiment_{i}_layers.pth\"\n",
    "        perf.append(eval_model(path=path_, data=data, layers=i).item())\n",
    "    return perf"
   ]
  },
  {
   "cell_type": "code",
   "execution_count": 4,
   "metadata": {},
   "outputs": [],
   "source": [
    "layers = [1, 2, 3, 4, 5]\n",
    "# train_multiple_models(layers)"
   ]
  },
  {
   "cell_type": "code",
   "execution_count": 5,
   "outputs": [
    {
     "name": "stdout",
     "output_type": "stream",
     "text": [
      "-3.4525604248046875\n",
      "-3.677065134048462\n",
      "-3.9491357803344727\n",
      "-3.9616055488586426\n",
      "-4.01860237121582\n"
     ]
    }
   ],
   "source": [
    "perf_layers = evaluate_models(layers)"
   ],
   "metadata": {
    "collapsed": false,
    "pycharm": {
     "name": "#%%\n"
    }
   }
  },
  {
   "cell_type": "code",
   "execution_count": 6,
   "metadata": {},
   "outputs": [],
   "source": [
    "def evaluate_models(samples):\n",
    "    perf = []\n",
    "    k = 32\n",
    "    data = gen_rectangular_channel_matrix(k, k, 10000, seed=899)\n",
    "    data = flex_graph(data)\n",
    "    for i in samples:\n",
    "        path_ = f\"./flexible_experiment_{i}_training_samples.pth\"\n",
    "        perf.append(eval_model(path=path_, data=data))\n",
    "    return perf"
   ]
  },
  {
   "cell_type": "code",
   "execution_count": 8,
   "metadata": {
    "pycharm": {
     "name": "#%%\n"
    }
   },
   "outputs": [
    {
     "name": "stdout",
     "output_type": "stream",
     "text": [
      "Displaying chart at http://localhost:58486/\n"
     ]
    }
   ],
   "source": [
    "source = pd.DataFrame({'Layers': layers,\n",
    "                           'Perf': perf_layers\n",
    "                           })\n",
    "source = source.melt('Layers', var_name='category', value_name='Performance')\n",
    "\n",
    "layers_chart = alt.Chart(source).transform_joinaggregate(\n",
    "    max='max(Performance)',\n",
    ").transform_calculate(\n",
    "    percent=\"datum.Performance / datum.max\"\n",
    ").transform_filter(\n",
    "    0.85 <= alt.datum.percent\n",
    ").mark_area(\n",
    "    color=\"lightblue\",\n",
    "    line=True,\n",
    "    point=True,\n",
    "    interpolate='monotone'\n",
    ").encode(\n",
    "    alt.X('Layers:Q', axis=alt.Axis(tickCount=5)),\n",
    "    alt.Y('percent:Q', title='Performance',\n",
    "          scale=alt.Scale(zero=False, nice=True, type='linear', \n",
    "                          domain=[0.85, 1], padding=0\n",
    "                         ),\n",
    "          axis=alt.Axis(tickCount=6, format='.0%')),\n",
    "    color=alt.value('#D95F02')\n",
    ").configure_point(\n",
    "    size=50\n",
    ")\n",
    "layers_chart"
   ]
  },
  {
   "cell_type": "markdown",
   "source": [
    "## Plot in SVG format for viewing on Github"
   ],
   "metadata": {
    "collapsed": false,
    "pycharm": {
     "name": "#%% md\n"
    }
   }
  },
  {
   "cell_type": "markdown",
   "source": [
    "![svg plot](https://user-images.githubusercontent.com/17931435/212996585-4f5da4bf-a744-467e-b4b4-21cc423f4f75.svg)"
   ],
   "metadata": {
    "collapsed": false,
    "pycharm": {
     "name": "#%% md\n"
    }
   }
  }
 ],
 "metadata": {
  "kernelspec": {
   "display_name": "Python 3",
   "language": "python",
   "name": "python3"
  },
  "language_info": {
   "codemirror_mode": {
    "name": "ipython",
    "version": 3
   },
   "file_extension": ".py",
   "mimetype": "text/x-python",
   "name": "python",
   "nbconvert_exporter": "python",
   "pygments_lexer": "ipython3",
   "version": "3.8.6"
  }
 },
 "nbformat": 4,
 "nbformat_minor": 4
}